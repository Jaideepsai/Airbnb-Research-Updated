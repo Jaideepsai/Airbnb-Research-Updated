{
 "cells": [
  {
   "cell_type": "code",
   "execution_count": 7,
   "metadata": {},
   "outputs": [
    {
     "data": {
      "text/plain": [
       "pandas.core.series.Series"
      ]
     },
     "execution_count": 7,
     "metadata": {},
     "output_type": "execute_result"
    }
   ],
   "source": [
    "type(df['SCENE_CATEGORY_1'])"
   ]
  },
  {
   "cell_type": "code",
   "execution_count": 1,
   "metadata": {},
   "outputs": [],
   "source": [
    "import pandas as pd\n",
    "import numpy as np\n",
    "data=pd.read_csv('/Users/jaideep/Desktop/Airbnb/Airbnb Full Project files 2/Data/Rerun/Airbnb_cnn_classification_merged.csv')\n",
    "df = pd.DataFrame(data)\n",
    "scene_1=df['SCENE_CATEGORY_1'].unique()\n",
    "scene_1_df=pd.DataFrame(scene_1)"
   ]
  },
  {
   "cell_type": "code",
   "execution_count": 2,
   "metadata": {},
   "outputs": [],
   "source": [
    "a=df['SCENE_CATEGORY_1'].append(df['SCENE_CATEGORY_2']).append(df['SCENE_CATEGORY_3']).append(df['SCENE_CATEGORY_4']).append(df['SCENE_CATEGORY_5']).unique()\n"
   ]
  },
  {
   "cell_type": "code",
   "execution_count": 3,
   "metadata": {},
   "outputs": [],
   "source": [
    "df1 = pd.DataFrame(a)"
   ]
  },
  {
   "cell_type": "code",
   "execution_count": 5,
   "metadata": {},
   "outputs": [],
   "source": [
    "df1.to_csv(\"/Users/jaideep/Desktop/Airbnb/Airbnb Full Project files 2/Data/fulldata/scene_unique_3cat.csv\", sep=',')"
   ]
  },
  {
   "cell_type": "code",
   "execution_count": 6,
   "metadata": {},
   "outputs": [],
   "source": [
    "scene_1_df.to_csv('/Users/jaideep/Desktop/Airbnb/Airbnb Full Project files 2/Data/Rerun/scene_unique.csv',sep=',')"
   ]
  },
  {
   "cell_type": "code",
   "execution_count": null,
   "metadata": {},
   "outputs": [],
   "source": []
  }
 ],
 "metadata": {
  "kernelspec": {
   "display_name": "Python 2",
   "language": "python",
   "name": "python2"
  },
  "language_info": {
   "codemirror_mode": {
    "name": "ipython",
    "version": 2
   },
   "file_extension": ".py",
   "mimetype": "text/x-python",
   "name": "python",
   "nbconvert_exporter": "python",
   "pygments_lexer": "ipython2",
   "version": "2.7.14"
  },
  "widgets": {
   "state": {},
   "version": "1.1.2"
  }
 },
 "nbformat": 4,
 "nbformat_minor": 2
}
